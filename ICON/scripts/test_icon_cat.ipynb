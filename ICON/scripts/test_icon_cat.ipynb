{
 "cells": [
  {
   "cell_type": "code",
   "execution_count": 1,
   "id": "07ccbcf5-c9c2-49a5-96ac-eb7e42c8ca95",
   "metadata": {
    "tags": []
   },
   "outputs": [],
   "source": [
    "import intake\n",
    "import sys\n",
    "import logging\n",
    "from collections.abc import Iterable\n",
    "import dask\n",
    "\n",
    "cat = intake.open_catalog(\"../main.yaml\")"
   ]
  },
  {
   "cell_type": "code",
   "execution_count": 2,
   "id": "54b997c5-9843-4467-8c0f-b7f475a2d106",
   "metadata": {
    "tags": []
   },
   "outputs": [],
   "source": [
    "def tree(cat, level=0, stream=sys.stdout):\n",
    "    prefix = \" \" * (3 * level)\n",
    "    try:\n",
    "        for child in list(cat):\n",
    "            parameters = [\n",
    "                p[\"name\"] for p in cat[child].describe().get(\"user_parameters\", [])\n",
    "            ]\n",
    "            if len(parameters) > 0:\n",
    "                parameter_str = \" (\" + \", \".join(parameters) + \")\"\n",
    "            else:\n",
    "                parameter_str = \"\"\n",
    "            mds = get_metadata_string(cat[child])\n",
    "            dask_test = test_dask(cat[child])\n",
    "            print(prefix + str(child) + parameter_str + mds + dask_test, file=stream)\n",
    "            tree(cat[child], level + 1)\n",
    "\n",
    "    except TypeError as e:  # we are probably trying to iterate a zarr file or so.\n",
    "        if \"object is not iterable\" not in str(e):\n",
    "            raise e\n",
    "\n",
    "\n",
    "def get_metadata_string(entry):\n",
    "    if not isinstance(entry, Iterable):\n",
    "        md = entry.metadata\n",
    "        try:\n",
    "            mds = f\"\\tP: {md['project']}, E: {md['experiment_id']}, Model: {md['source_id']}, ID: {md['simulation_id']}\"\n",
    "        except KeyError as e:\n",
    "            logging.critical(f\"Cannot process {entry}. Metadata key {str(e)} missing\")\n",
    "            raise e\n",
    "        return mds\n",
    "    else:\n",
    "        return \"\"\n",
    "    \n",
    "def test_dask(entry):\n",
    "    if not isinstance(entry, Iterable):\n",
    "        try: \n",
    "            with dask.config.set(**{'array.slicing.split_large_chunks': True}):\n",
    "                vars = list(entry.to_dask().variables.keys())\n",
    "        except Exception as e:\n",
    "            logging.critical(f\"Cannot convert {entry} to dask.\")\n",
    "            raise e\n",
    "\n",
    "        return f\", {len(vars)} Variables\"\n",
    "    else:\n",
    "        return \"\""
   ]
  },
  {
   "cell_type": "code",
   "execution_count": 3,
   "id": "c7e60f0a-60f9-4758-8a32-74e8f72136ba",
   "metadata": {
    "tags": []
   },
   "outputs": [
    {
     "name": "stdout",
     "output_type": "stream",
     "text": [
      "ngc4008 (time, zoom)\tP: nextGEMS, E: nextgems_prefinal, Model: ICON-ESM, ID: ngc4008, 108 Variables\n",
      "ngc4006 (time, zoom)\tP: nextGEMS, E: nextgems_prefinal, Model: ICON-ESM, ID: ngc4006, 106 Variables\n",
      "ngc4005 (time, zoom)\tP: nextGEMS, E: nextgems_prefinal, Model: ICON-ESM, ID: ngc4005, 112 Variables\n",
      "ngc3028 (time, zoom)\tP: nextGEMS, E: nextgems_cycle3, Model: ICON-ESM, ID: ngc3028, 102 Variables\n",
      "ngc3028_bc_land\tP: nextGEMS, E: nextgems_cycle3, Model: ICON-ESM, ID: ngc3028, 43 Variables\n",
      "ngc3026_WILL_BE_DELETED (time, zoom)\tP: nextGEMS, E: nextgems_cycle3, Model: ICON-ESM, ID: ngc3026, 96 Variables\n",
      "HAMOCC\n",
      "   HEALPix (zoom)\tP: nextGEMS, E: nextgems_cycle3, Model: ICON-ESM, ID: cycle3_HAMOCC, 94 Variables\n",
      "   OneDegree\tP: nextGEMS, E: nextgems_cycle3, Model: ICON-ESM, ID: cycle3_HAMOCC, 71 Variables\n",
      "slow\n",
      "   ngc3028 (time, zoom)\tP: nextGEMS, E: nextgems_cycle3, Model: ICON-ESM, ID: ngc3028, 102 Variables\n",
      "   HAMOCC\n",
      "      HEALPix (zoom)\tP: nextGEMS, E: nextgems_cycle3, Model: ICON-ESM, ID: cycle3_HAMOCC, 94 Variables\n",
      "      OneDegree\tP: nextGEMS, E: nextgems_cycle3, Model: ICON-ESM, ID: cycle3_HAMOCC, 71 Variables\n",
      "fast\n",
      "   ngc3028 (time, zoom)\tP: nextGEMS, E: nextgems_cycle3, Model: ICON-ESM, ID: ngc3028, 102 Variables\n",
      "   HAMOCC\n",
      "      HEALPix (zoom)\tP: nextGEMS, E: nextgems_cycle3, Model: ICON-ESM, ID: cycle3_HAMOCC, 94 Variables\n",
      "      OneDegree\tP: nextGEMS, E: nextgems_cycle3, Model: ICON-ESM, ID: cycle3_HAMOCC, 71 Variables\n",
      "   slow\n",
      "      ngc3028 (time, zoom)\tP: nextGEMS, E: nextgems_cycle3, Model: ICON-ESM, ID: ngc3028, 102 Variables\n",
      "      HAMOCC\n",
      "         HEALPix (zoom)\tP: nextGEMS, E: nextgems_cycle3, Model: ICON-ESM, ID: cycle3_HAMOCC, 94 Variables\n",
      "         OneDegree\tP: nextGEMS, E: nextgems_cycle3, Model: ICON-ESM, ID: cycle3_HAMOCC, 71 Variables\n"
     ]
    }
   ],
   "source": [
    "tree(cat)"
   ]
  },
  {
   "cell_type": "code",
   "execution_count": null,
   "id": "02aba9f8-a7aa-449f-a326-cb2c5a1aa8fc",
   "metadata": {},
   "outputs": [],
   "source": []
  }
 ],
 "metadata": {
  "kernelspec": {
   "display_name": "1 Python 3 (based on the module python3/2023.01)",
   "language": "python",
   "name": "python3_2023_01"
  },
  "language_info": {
   "codemirror_mode": {
    "name": "ipython",
    "version": 3
   },
   "file_extension": ".py",
   "mimetype": "text/x-python",
   "name": "python",
   "nbconvert_exporter": "python",
   "pygments_lexer": "ipython3",
   "version": "3.10.10"
  }
 },
 "nbformat": 4,
 "nbformat_minor": 5
}
