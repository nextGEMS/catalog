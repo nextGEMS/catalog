{
 "cells": [
  {
   "cell_type": "code",
   "execution_count": 1,
   "metadata": {},
   "outputs": [],
   "source": [
    "import intake_tools\n",
    "import intake\n",
    "from pystac import Catalog, Item, Asset, MediaType, CatalogType\n",
    "import stac_tools\n",
    "import logging\n",
    "\n",
    "logger = logging.getLogger(\"PlayWithStack\")\n",
    "\n",
    "logger.setLevel(logging.ERROR)"
   ]
  },
  {
   "cell_type": "code",
   "execution_count": 2,
   "metadata": {},
   "outputs": [],
   "source": [
    "cat = intake.open_catalog(\"../catalog.yaml\")"
   ]
  },
  {
   "cell_type": "code",
   "execution_count": 3,
   "metadata": {},
   "outputs": [],
   "source": [
    "stac_cat = Catalog(\"nextgems\", \"nextGEMS simulations\")\n",
    "\n",
    "\n",
    "def create_subcat(cat, child, position):\n",
    "    parent = stac_tools.get_subcat(stac_cat, position)\n",
    "    child = Catalog(child, f\"Sub-catalog for {'/'.join(position)}/{child}\")\n",
    "    parent.add_child(child)\n",
    "\n",
    "\n",
    "def create_item(cat, child, position):\n",
    "    try:\n",
    "        create_zarr_item(cat, child, position)\n",
    "    except Exception as e:\n",
    "        logger.error(f\"Bad dataset: {'/'.join(position)}/{child}: {e}\")\n",
    "\n",
    "\n",
    "def create_zarr_item(cat, child, position):\n",
    "    logger.debug(f'processing \"/\".join(position + [child])')\n",
    "\n",
    "    parent = stac_tools.get_subcat(stac_cat, position)\n",
    "    cg = intake_to_stac.catalog_generator()\n",
    "    child = cg._gen_item(child, cat[child])\n",
    "    parent.add_item(child)"
   ]
  },
  {
   "cell_type": "code",
   "execution_count": 4,
   "metadata": {},
   "outputs": [],
   "source": [
    "def print_subcat(cat, child, position):\n",
    "    print(\"/\".join(position + [child]))\n",
    "\n",
    "\n",
    "def print_entry(cat, child, position):\n",
    "    print(\"/\".join(position + [child]) + \".yaml\")\n"
   ]
  },
  {
   "cell_type": "code",
   "execution_count": 5,
   "metadata": {},
   "outputs": [],
   "source": [
    "%load_ext autoreload\n",
    "%aimport intake_to_stac\n",
    "%autoreload 1\n"
   ]
  },
  {
   "cell_type": "code",
   "execution_count": 6,
   "metadata": {},
   "outputs": [],
   "source": [
    "intake_tools.traverse_tree(\n",
    "    cat[\"ICON.PrecipPuzzle\"], subcat_callback=create_subcat, entry_callback=create_item\n",
    ")"
   ]
  },
  {
   "cell_type": "code",
   "execution_count": 7,
   "metadata": {},
   "outputs": [],
   "source": [
    "stac_cat.normalize_and_save(\n",
    "    root_href=\"/tmp/stac\", catalog_type=CatalogType.SELF_CONTAINED\n",
    ")"
   ]
  }
 ],
 "metadata": {
  "kernelspec": {
   "display_name": "easy",
   "language": "python",
   "name": "python3"
  },
  "language_info": {
   "codemirror_mode": {
    "name": "ipython",
    "version": 3
   },
   "file_extension": ".py",
   "mimetype": "text/x-python",
   "name": "python",
   "nbconvert_exporter": "python",
   "pygments_lexer": "ipython3",
   "version": "3.12.9"
  }
 },
 "nbformat": 4,
 "nbformat_minor": 2
}
