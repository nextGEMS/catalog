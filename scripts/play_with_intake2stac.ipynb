{
 "cells": [
  {
   "cell_type": "code",
   "execution_count": null,
   "metadata": {},
   "outputs": [],
   "source": [
    "import intake_tools\n",
    "import intake\n",
    "from pystac import Catalog, Item, Asset, MediaType, CatalogType\n",
    "import stac_tools\n",
    "import logging\n",
    "\n",
    "logger = logging.getLogger(\"PlayWithStack\")\n",
    "\n",
    "logger.setLevel(logging.ERROR)"
   ]
  },
  {
   "cell_type": "code",
   "execution_count": 2,
   "metadata": {},
   "outputs": [],
   "source": [
    "cat = intake.open_catalog(\"../catalog.yaml\")"
   ]
  },
  {
   "cell_type": "code",
   "execution_count": 3,
   "metadata": {},
   "outputs": [],
   "source": [
    "stac_cat = Catalog(\"nextgems\", \"nextGEMS simulations\")\n",
    "\n",
    "\n",
    "def create_subcat(cat, child, position):\n",
    "    parent = stac_tools.get_subcat(stac_cat, position)\n",
    "    child = Catalog(child, f\"Sub-catalog for {'/'.join(position)}/{child}\")\n",
    "    parent.add_child(child)\n",
    "\n",
    "\n",
    "def create_item(cat, child, position):\n",
    "    try:\n",
    "        create_zarr_item(cat, child, position)\n",
    "    except Exception as e:\n",
    "        logger.error(f\"Bad dataset: {'/'.join(position)}/{child}: {e}\")\n",
    "\n",
    "\n",
    "def create_zarr_item(cat, child, position):\n",
    "    logger.debug(f'processing {\"/\".join(position + [child])}')\n",
    "\n",
    "    parent = stac_tools.get_subcat(stac_cat, position)\n",
    "    cg = intake_to_stac.catalog_generator()\n",
    "    child = cg._gen_item(child, cat[child])\n",
    "    parent.add_item(child)"
   ]
  },
  {
   "cell_type": "code",
   "execution_count": 4,
   "metadata": {},
   "outputs": [],
   "source": [
    "def print_subcat(cat, child, position):\n",
    "    print(\"/\".join(position + [child]))\n",
    "\n",
    "\n",
    "def print_entry(cat, child, position):\n",
    "    print(\"/\".join(position + [child]) + \".yaml\")\n"
   ]
  },
  {
   "cell_type": "code",
   "execution_count": 5,
   "metadata": {},
   "outputs": [],
   "source": [
    "%load_ext autoreload\n",
    "%aimport intake_to_stac\n",
    "%autoreload 1\n"
   ]
  },
  {
   "cell_type": "code",
   "execution_count": null,
   "metadata": {},
   "outputs": [
    {
     "name": "stderr",
     "output_type": "stream",
     "text": [
      "DEBUG:PlayWithStack:processing 2D_1h_0.25deg\n",
      "DEBUG:intake_to_stac:Could not get time range for 2D_1h_0.25deg by loading it. Please supply 'start_datetime' and 'end_datetime' in the metadata.\n",
      "DEBUG:intake_to_stac:starting to add assets\n",
      "ERROR:PlayWithStack:Bad dataset: /2D_1h_0.25deg: URI for 2D_1h_0.25deg is a list. Can only handle single files.\n",
      "DEBUG:PlayWithStack:processing 2D_1h_1deg\n",
      "DEBUG:intake_to_stac:Could not get time range for 2D_1h_1deg by loading it. Please supply 'start_datetime' and 'end_datetime' in the metadata.\n",
      "DEBUG:intake_to_stac:starting to add assets\n",
      "ERROR:PlayWithStack:Bad dataset: /2D_1h_1deg: URI for 2D_1h_1deg is a list. Can only handle single files.\n",
      "DEBUG:PlayWithStack:processing 2D_1h_native\n",
      "DEBUG:intake_to_stac:Could not get time range for 2D_1h_native by loading it. Please supply 'start_datetime' and 'end_datetime' in the metadata.\n",
      "DEBUG:intake_to_stac:starting to add assets\n",
      "ERROR:PlayWithStack:Bad dataset: /2D_1h_native: URI for 2D_1h_native is a list. Can only handle single files.\n",
      "DEBUG:PlayWithStack:processing 2D_daily_0.25deg\n",
      "DEBUG:intake_to_stac:Could not get time range for 2D_daily_0.25deg by loading it. Please supply 'start_datetime' and 'end_datetime' in the metadata.\n",
      "DEBUG:intake_to_stac:starting to add assets\n",
      "ERROR:PlayWithStack:Bad dataset: /2D_daily_0.25deg: URI for 2D_daily_0.25deg is a list. Can only handle single files.\n",
      "DEBUG:PlayWithStack:processing 2D_daily_1deg\n",
      "DEBUG:intake_to_stac:Could not get time range for 2D_daily_1deg by loading it. Please supply 'start_datetime' and 'end_datetime' in the metadata.\n",
      "DEBUG:intake_to_stac:starting to add assets\n",
      "ERROR:PlayWithStack:Bad dataset: /2D_daily_1deg: URI for 2D_daily_1deg is a list. Can only handle single files.\n",
      "DEBUG:PlayWithStack:processing 2D_daily_native\n",
      "DEBUG:intake_to_stac:Could not get time range for 2D_daily_native by loading it. Please supply 'start_datetime' and 'end_datetime' in the metadata.\n",
      "DEBUG:intake_to_stac:starting to add assets\n",
      "ERROR:PlayWithStack:Bad dataset: /2D_daily_native: URI for 2D_daily_native is a list. Can only handle single files.\n",
      "DEBUG:PlayWithStack:processing 2D_monthly_0.25deg\n",
      "DEBUG:intake_to_stac:Could not get time range for 2D_monthly_0.25deg by loading it. Please supply 'start_datetime' and 'end_datetime' in the metadata.\n",
      "DEBUG:intake_to_stac:starting to add assets\n",
      "ERROR:PlayWithStack:Bad dataset: /2D_monthly_0.25deg: URI for 2D_monthly_0.25deg is a list. Can only handle single files.\n",
      "DEBUG:PlayWithStack:processing 2D_monthly_1deg\n",
      "DEBUG:intake_to_stac:Could not get time range for 2D_monthly_1deg by loading it. Please supply 'start_datetime' and 'end_datetime' in the metadata.\n",
      "DEBUG:intake_to_stac:starting to add assets\n",
      "ERROR:PlayWithStack:Bad dataset: /2D_monthly_1deg: URI for 2D_monthly_1deg is a list. Can only handle single files.\n",
      "DEBUG:PlayWithStack:processing 2D_monthly_native\n",
      "DEBUG:intake_to_stac:Could not get time range for 2D_monthly_native by loading it. Please supply 'start_datetime' and 'end_datetime' in the metadata.\n",
      "DEBUG:intake_to_stac:starting to add assets\n",
      "ERROR:PlayWithStack:Bad dataset: /2D_monthly_native: URI for 2D_monthly_native is a list. Can only handle single files.\n",
      "DEBUG:PlayWithStack:processing 3D_3h_native\n",
      "DEBUG:intake_to_stac:Could not get time range for 3D_3h_native by loading it. Please supply 'start_datetime' and 'end_datetime' in the metadata.\n",
      "DEBUG:intake_to_stac:starting to add assets\n",
      "ERROR:PlayWithStack:Bad dataset: /3D_3h_native: URI for 3D_3h_native is a list. Can only handle single files.\n",
      "DEBUG:PlayWithStack:processing 3D_3h_native_zarr\n",
      "DEBUG:intake_to_stac:Could not get time range for 3D_3h_native_zarr by loading it. Please supply 'start_datetime' and 'end_datetime' in the metadata.\n",
      "DEBUG:intake_to_stac:starting to add assets\n",
      "ERROR:PlayWithStack:Bad dataset: /3D_3h_native_zarr: URI for 3D_3h_native_zarr is a list. Can only handle single files.\n",
      "DEBUG:PlayWithStack:processing 3D_daily_native\n",
      "DEBUG:intake_to_stac:Could not get time range for 3D_daily_native by loading it. Please supply 'start_datetime' and 'end_datetime' in the metadata.\n",
      "DEBUG:intake_to_stac:starting to add assets\n",
      "ERROR:PlayWithStack:Bad dataset: /3D_daily_native: URI for 3D_daily_native is a list. Can only handle single files.\n",
      "DEBUG:PlayWithStack:processing 3D_daily_native_zarr\n",
      "DEBUG:intake_to_stac:Could not get time range for 3D_daily_native_zarr by loading it. Please supply 'start_datetime' and 'end_datetime' in the metadata.\n",
      "DEBUG:intake_to_stac:starting to add assets\n",
      "ERROR:PlayWithStack:Bad dataset: /3D_daily_native_zarr: URI for 3D_daily_native_zarr is a list. Can only handle single files.\n",
      "DEBUG:PlayWithStack:processing 3D_monthly_0.25deg\n",
      "DEBUG:intake_to_stac:Could not get time range for 3D_monthly_0.25deg by loading it. Please supply 'start_datetime' and 'end_datetime' in the metadata.\n",
      "DEBUG:intake_to_stac:starting to add assets\n",
      "DEBUG:intake_to_stac:/work/bm1344/AWI/Cycle3/test/monthly_means/025/*/*.nc\n",
      "DEBUG:intake_to_stac:Working with sources:\n",
      "  3D_monthly_0.25deg:\n",
      "    args:\n",
      "      urlpath: /work/bm1344/AWI/Cycle3/test/monthly_means/025/*/*.nc\n",
      "      xarray_kwargs:\n",
      "        combine: by_coords\n",
      "        decode_times: true\n",
      "    description: ''\n",
      "    driver: intake_xarray.netcdf.NetCDFSource\n",
      "    metadata:\n",
      "      catalog_dir: /Users/flo/dumpster/nextGEMS/catalog/scripts/../FESOM/\n",
      "      variable-long_names:\n",
      "      - salinity\n",
      "      - temperature\n",
      "      - zonal velocity\n",
      "      - meridional velocity\n",
      "      - vertical velocity\n",
      "      variables:\n",
      "      - salt\n",
      "      - temp\n",
      "      - u\n",
      "      - v\n",
      "      - w\n",
      ", {}\n",
      "DEBUG:PlayWithStack:processing 3D_monthly_1deg\n",
      "DEBUG:intake_to_stac:Could not get time range for 3D_monthly_1deg by loading it. Please supply 'start_datetime' and 'end_datetime' in the metadata.\n",
      "DEBUG:intake_to_stac:starting to add assets\n",
      "DEBUG:intake_to_stac:/work/bm1344/AWI/Cycle3/test/monthly_means/100/*/*.nc\n",
      "DEBUG:intake_to_stac:Working with sources:\n",
      "  3D_monthly_1deg:\n",
      "    args:\n",
      "      urlpath: /work/bm1344/AWI/Cycle3/test/monthly_means/100/*/*.nc\n",
      "      xarray_kwargs:\n",
      "        combine: by_coords\n",
      "        decode_times: true\n",
      "    description: ''\n",
      "    driver: intake_xarray.netcdf.NetCDFSource\n",
      "    metadata:\n",
      "      catalog_dir: /Users/flo/dumpster/nextGEMS/catalog/scripts/../FESOM/\n",
      "      variable-long_names:\n",
      "      - salinity\n",
      "      - temperature\n",
      "      - zonal velocity\n",
      "      - meridional velocity\n",
      "      - vertical velocity\n",
      "      variables:\n",
      "      - salt\n",
      "      - temp\n",
      "      - u\n",
      "      - v\n",
      "      - w\n",
      ", {}\n",
      "DEBUG:PlayWithStack:processing elem_grid\n",
      "DEBUG:intake_to_stac:Could not get time range for elem_grid by loading it. Please supply 'start_datetime' and 'end_datetime' in the metadata.\n",
      "DEBUG:intake_to_stac:starting to add assets\n",
      "DEBUG:intake_to_stac:/work/bm1235/a270046/meshes/NG5_griddes_elems_IFS.nc\n",
      "DEBUG:intake_to_stac:Working with sources:\n",
      "  elem_grid:\n",
      "    args:\n",
      "      urlpath: /work/bm1235/a270046/meshes/NG5_griddes_elems_IFS.nc\n",
      "    description: ''\n",
      "    driver: intake_xarray.netcdf.NetCDFSource\n",
      "    metadata:\n",
      "      catalog_dir: /Users/flo/dumpster/nextGEMS/catalog/scripts/../FESOM/\n",
      "      variable-long_names:\n",
      "      - grid dimensions\n",
      "      - land sea mask\n",
      "      - area of grid cell\n",
      "      - Indicates which other nodes neighbour each node.\n",
      "      - Maps every triangular face to its three corner nodes.\n",
      "      - 'Indicates coastal triangles: coast=1, internal=0'\n",
      "      variables:\n",
      "      - grid_dims\n",
      "      - grid_imask\n",
      "      - cell_area\n",
      "      - node_node_links\n",
      "      - triag_nodes\n",
      "      - coast\n",
      ", {}\n",
      "DEBUG:PlayWithStack:processing node_grid\n",
      "DEBUG:intake_to_stac:Could not get time range for node_grid by loading it. Please supply 'start_datetime' and 'end_datetime' in the metadata.\n",
      "DEBUG:intake_to_stac:starting to add assets\n",
      "DEBUG:intake_to_stac:/work/bm1235/a270046/meshes/NG5_griddes_nodes_IFS.nc\n",
      "DEBUG:intake_to_stac:Working with sources:\n",
      "  node_grid:\n",
      "    args:\n",
      "      urlpath: /work/bm1235/a270046/meshes/NG5_griddes_nodes_IFS.nc\n",
      "    description: ''\n",
      "    driver: intake_xarray.netcdf.NetCDFSource\n",
      "    metadata:\n",
      "      catalog_dir: /Users/flo/dumpster/nextGEMS/catalog/scripts/../FESOM/\n",
      "      variable-long_names:\n",
      "      - grid dimensions\n",
      "      - land sea mask\n",
      "      - area of grid cell\n",
      "      - Indicates which other nodes neighbour each node.\n",
      "      - Maps every triangular face to its three corner nodes.\n",
      "      - 'Indicates coastal nodes: coast=1, internal=0'\n",
      "      - depth of model levels in metres (positive downwards)\n",
      "      - depth of model level bounds in metres (positive downwards)\n",
      "      - depth in terms of number of active levels beneath each ocean surface grid\n",
      "        point\n",
      "      variables:\n",
      "      - grid_dims\n",
      "      - grid_imask\n",
      "      - cell_area\n",
      "      - node_node_links\n",
      "      - triag_nodes\n",
      "      - coast\n",
      "      - depth\n",
      "      - depth_bnds\n",
      "      - depth_lev\n",
      ", {}\n",
      "DEBUG:PlayWithStack:processing data_inventory\n",
      "CRITICAL:intake_to_stac:Ran into <class 'AttributeError'>: 'DataFrame' object has no attribute 'time', when trying to get start and end times for data_inventory\n",
      "ERROR:PlayWithStack:Bad dataset: /data_inventory: 'DataFrame' object has no attribute 'time'\n"
     ]
    }
   ],
   "source": [
    "intake_tools.traverse_tree(\n",
    "    cat, subcat_callback=create_subcat, entry_callback=create_item\n",
    ")"
   ]
  },
  {
   "cell_type": "code",
   "execution_count": 7,
   "metadata": {},
   "outputs": [],
   "source": [
    "stac_cat.normalize_and_save(\n",
    "    root_href=\"/tmp/stac\", catalog_type=CatalogType.SELF_CONTAINED\n",
    ")"
   ]
  },
  {
   "cell_type": "code",
   "execution_count": 8,
   "metadata": {},
   "outputs": [],
   "source": [
    "sc = Catalog.from_file(\"/tmp/stac/catalog.json\")"
   ]
  },
  {
   "cell_type": "code",
   "execution_count": 9,
   "metadata": {},
   "outputs": [
    {
     "ename": "AttributeError",
     "evalue": "'NoneType' object has no attribute 'get_child'",
     "output_type": "error",
     "traceback": [
      "\u001b[0;31m---------------------------------------------------------------------------\u001b[0m",
      "\u001b[0;31mAttributeError\u001b[0m                            Traceback (most recent call last)",
      "Cell \u001b[0;32mIn[9], line 1\u001b[0m\n\u001b[0;32m----> 1\u001b[0m \u001b[38;5;28mprint\u001b[39m ([ x \u001b[38;5;28;01mfor\u001b[39;00m x \u001b[38;5;129;01min\u001b[39;00m \u001b[43msc\u001b[49m\u001b[38;5;241;43m.\u001b[39;49m\u001b[43mget_child\u001b[49m\u001b[43m(\u001b[49m\u001b[38;5;124;43m\"\u001b[39;49m\u001b[38;5;124;43mFESOM\u001b[39;49m\u001b[38;5;124;43m\"\u001b[39;49m\u001b[43m)\u001b[49m\u001b[38;5;241;43m.\u001b[39;49m\u001b[43mget_child\u001b[49m(\u001b[38;5;124m\"\u001b[39m\u001b[38;5;124mIFS_4.4-FESOM_5-cycle3\u001b[39m\u001b[38;5;124m\"\u001b[39m)\u001b[38;5;241m.\u001b[39mget_children()])\n",
      "\u001b[0;31mAttributeError\u001b[0m: 'NoneType' object has no attribute 'get_child'"
     ]
    }
   ],
   "source": [
    "print ([ x for x in sc.get_child(\"FESOM\").get_child(\"IFS_4.4-FESOM_5-cycle3\").get_children()])"
   ]
  },
  {
   "cell_type": "code",
   "execution_count": null,
   "metadata": {},
   "outputs": [
    {
     "data": {
      "text/plain": [
       "'1.12.1'"
      ]
     },
     "execution_count": 15,
     "metadata": {},
     "output_type": "execute_result"
    }
   ],
   "source": [
    "import pystac\n",
    "pystac.__version__"
   ]
  },
  {
   "cell_type": "code",
   "execution_count": null,
   "metadata": {},
   "outputs": [],
   "source": [
    "    "
   ]
  }
 ],
 "metadata": {
  "kernelspec": {
   "display_name": "easy",
   "language": "python",
   "name": "python3"
  },
  "language_info": {
   "codemirror_mode": {
    "name": "ipython",
    "version": 3
   },
   "file_extension": ".py",
   "mimetype": "text/x-python",
   "name": "python",
   "nbconvert_exporter": "python",
   "pygments_lexer": "ipython3",
   "version": "3.12.9"
  }
 },
 "nbformat": 4,
 "nbformat_minor": 2
}
