{
 "cells": [
  {
   "cell_type": "code",
   "execution_count": 1,
   "metadata": {},
   "outputs": [],
   "source": [
    "from pathlib import Path\n",
    "import re\n",
    "import xarray as xr\n",
    "import virtualizarr\n",
    "from typing import List\n",
    "import logging"
   ]
  },
  {
   "cell_type": "code",
   "execution_count": 2,
   "metadata": {},
   "outputs": [],
   "source": [
    "logging.basicConfig()\n",
    "logger = logging.getLogger(\"catalog_netcdf\")\n",
    "logger.setLevel(logging.DEBUG)"
   ]
  },
  {
   "cell_type": "code",
   "execution_count": 3,
   "metadata": {},
   "outputs": [],
   "source": [
    "input_dir = Path(\n",
    "    \"/work/mh0033/m211054/projects/icon/seamless/icon-2024.10/build_hdext/experiments/hel24312_r5b7_ctrl/outdata/\"\n",
    ")\n",
    "storage_prefix = Path(\"/scratch/k/k202134/virtual_datasets\")\n",
    "storage_prefix.mkdir(exist_ok=True)"
   ]
  },
  {
   "cell_type": "code",
   "execution_count": 4,
   "metadata": {},
   "outputs": [],
   "source": [
    "files = input_dir.glob(\"*.nc\")\n",
    "stems = list(f.stem for f in files)\n",
    "s0 = stems[0]\n",
    "for shared in range(1, len(s0) + 1):\n",
    "    if not all(x.startswith(s0[:shared]) for x in stems):\n",
    "        shared -= 1\n",
    "        break\n",
    "id = s0[:shared]\n",
    "parts = [x[shared:] for x in stems]"
   ]
  },
  {
   "cell_type": "code",
   "execution_count": 5,
   "metadata": {},
   "outputs": [
    {
     "data": {
      "text/plain": [
       "{'atm_2d_ml',\n",
       " 'atm_3d_ml',\n",
       " 'atm_mon',\n",
       " 'hd_meanflow',\n",
       " 'oce_fx',\n",
       " 'oce_mon',\n",
       " 'oce_qps'}"
      ]
     },
     "execution_count": 5,
     "metadata": {},
     "output_type": "execute_result"
    }
   ],
   "source": [
    "patterns = {\n",
    "    re.sub(r\"\\d{4}-\\d{2}-\\d{2}\", \"\", x) for x in parts\n",
    "}  # r'\\\\d\\{4\\}-\\\\d\\{2\\}-\\\\d\\{2\\}'\n",
    "patterns = {re.sub(r\"\\d{8}T\\d{6}Z\", \"\", x) for x in patterns}  # r'\\\\d\\{8\\}T\\\\d\\{6\\}Z'\n",
    "patterns = {re.sub(r\"^_\", \"\", x) for x in patterns}\n",
    "patterns = {re.sub(r\"_$\", \"\", x) for x in patterns}\n",
    "patterns"
   ]
  },
  {
   "cell_type": "code",
   "execution_count": 6,
   "metadata": {},
   "outputs": [],
   "source": [
    "filelist = {\n",
    "    pattern: sorted(input_dir.glob(f\"{id}*{pattern}*.nc\")) for pattern in patterns\n",
    "}"
   ]
  },
  {
   "cell_type": "code",
   "execution_count": 7,
   "metadata": {},
   "outputs": [],
   "source": [
    "def get_subset_info(datasets):  # currently not used, but code might be useful.\n",
    "    dimsets = {pattern: ds.sizes for pattern, ds in datasets.items()}\n",
    "    subsets = {\n",
    "        dataset: {x: 0 for x, count in dims.items() if count == 1}\n",
    "        for dataset, dims in dimsets.items()\n",
    "    }\n",
    "    subsetted = {\n",
    "        name: datasets[name].isel(subset).drop_vars(subset.keys())\n",
    "        for name, subset in subsets.items()\n",
    "    }\n",
    "    subset_dims = {name: ds.sizes for name, ds in subsetted.items()}\n",
    "    subset_dims"
   ]
  },
  {
   "cell_type": "code",
   "execution_count": 9,
   "metadata": {},
   "outputs": [],
   "source": [
    "def load_virtual_dataset(name: str, files: List[Path]):\n",
    "    to_load = variables_to_load(files)\n",
    "    logger.debug(f\"loading {to_load}\")\n",
    "    logger.debug(f\"{files=}\")\n",
    "    virtual_datasets = [\n",
    "        virtualizarr.open_virtual_dataset(\n",
    "            filepath=str(filepath), loadable_variables=to_load, indexes={}\n",
    "        )\n",
    "        for filepath in files\n",
    "    ]\n",
    "    logger.debug(\"combining virtual datasets\")\n",
    "    virtual_ds = xr.combine_nested(\n",
    "        virtual_datasets, concat_dim=[\"time\"], coords=\"minimal\", compat=\"override\"\n",
    "    )\n",
    "    return virtual_ds\n",
    "\n",
    "\n",
    "def variables_to_load(files) -> List[str]:\n",
    "    ds = xr.open_mfdataset(files)\n",
    "    to_load = [\n",
    "        x\n",
    "        for x in ds.variables\n",
    "        if (len([dim for dim in ds[x].shape if dim > 1]) <= 1) | ds[x].size < 1e6\n",
    "    ]\n",
    "    return to_load"
   ]
  },
  {
   "cell_type": "code",
   "execution_count": 10,
   "metadata": {},
   "outputs": [
    {
     "name": "stderr",
     "output_type": "stream",
     "text": [
      "INFO:catalog_netcdf:loading oce_mon\n",
      "DEBUG:catalog_netcdf:loading ['total_salt', 'total_saltinseaice', 'total_saltinliquidwater', 'amoc26n', 'kin_energy_global', 'pot_energy_global', 'total_energy_global', 'ssh_global', 'sst_global', 'sss_global', 'potential_enstrophy_global', 'HeatFlux_Total_global', 'FrshFlux_Precipitation_global', 'FrshFlux_SnowFall_global', 'FrshFlux_Evaporation_global', 'FrshFlux_Runoff_global', 'FrshFlux_VolumeIce_global', 'FrshFlux_TotalOcean_global', 'FrshFlux_TotalIce_global', 'FrshFlux_VolumeTotal_global', 'totalsnowfall_global', 'ice_volume_nh', 'ice_volume_sh', 'ice_extent_nh', 'ice_extent_sh', 'global_heat_content', 'global_heat_content_solid', 'time', 'lon', 'lat']\n",
      "DEBUG:catalog_netcdf:files=[PosixPath('/work/mh0033/m211054/projects/icon/seamless/icon-2024.10/build_hdext/experiments/hel24312_r5b7_ctrl/outdata/hel24312_r5b7_ctrl_oce_mon_17000101T000000Z.nc'), PosixPath('/work/mh0033/m211054/projects/icon/seamless/icon-2024.10/build_hdext/experiments/hel24312_r5b7_ctrl/outdata/hel24312_r5b7_ctrl_oce_mon_17050101T000000Z.nc'), PosixPath('/work/mh0033/m211054/projects/icon/seamless/icon-2024.10/build_hdext/experiments/hel24312_r5b7_ctrl/outdata/hel24312_r5b7_ctrl_oce_mon_17100101T000000Z.nc'), PosixPath('/work/mh0033/m211054/projects/icon/seamless/icon-2024.10/build_hdext/experiments/hel24312_r5b7_ctrl/outdata/hel24312_r5b7_ctrl_oce_mon_17150101T000000Z.nc'), PosixPath('/work/mh0033/m211054/projects/icon/seamless/icon-2024.10/build_hdext/experiments/hel24312_r5b7_ctrl/outdata/hel24312_r5b7_ctrl_oce_mon_17200101T000000Z.nc'), PosixPath('/work/mh0033/m211054/projects/icon/seamless/icon-2024.10/build_hdext/experiments/hel24312_r5b7_ctrl/outdata/hel24312_r5b7_ctrl_oce_mon_17250101T000000Z.nc'), PosixPath('/work/mh0033/m211054/projects/icon/seamless/icon-2024.10/build_hdext/experiments/hel24312_r5b7_ctrl/outdata/hel24312_r5b7_ctrl_oce_mon_17300101T000000Z.nc'), PosixPath('/work/mh0033/m211054/projects/icon/seamless/icon-2024.10/build_hdext/experiments/hel24312_r5b7_ctrl/outdata/hel24312_r5b7_ctrl_oce_mon_17350101T000000Z.nc'), PosixPath('/work/mh0033/m211054/projects/icon/seamless/icon-2024.10/build_hdext/experiments/hel24312_r5b7_ctrl/outdata/hel24312_r5b7_ctrl_oce_mon_17400101T000000Z.nc'), PosixPath('/work/mh0033/m211054/projects/icon/seamless/icon-2024.10/build_hdext/experiments/hel24312_r5b7_ctrl/outdata/hel24312_r5b7_ctrl_oce_mon_17450101T000000Z.nc'), PosixPath('/work/mh0033/m211054/projects/icon/seamless/icon-2024.10/build_hdext/experiments/hel24312_r5b7_ctrl/outdata/hel24312_r5b7_ctrl_oce_mon_17500101T000000Z.nc'), PosixPath('/work/mh0033/m211054/projects/icon/seamless/icon-2024.10/build_hdext/experiments/hel24312_r5b7_ctrl/outdata/hel24312_r5b7_ctrl_oce_mon_17550101T000000Z.nc'), PosixPath('/work/mh0033/m211054/projects/icon/seamless/icon-2024.10/build_hdext/experiments/hel24312_r5b7_ctrl/outdata/hel24312_r5b7_ctrl_oce_mon_17600101T000000Z.nc'), PosixPath('/work/mh0033/m211054/projects/icon/seamless/icon-2024.10/build_hdext/experiments/hel24312_r5b7_ctrl/outdata/hel24312_r5b7_ctrl_oce_mon_17650101T000000Z.nc'), PosixPath('/work/mh0033/m211054/projects/icon/seamless/icon-2024.10/build_hdext/experiments/hel24312_r5b7_ctrl/outdata/hel24312_r5b7_ctrl_oce_mon_17700101T000000Z.nc'), PosixPath('/work/mh0033/m211054/projects/icon/seamless/icon-2024.10/build_hdext/experiments/hel24312_r5b7_ctrl/outdata/hel24312_r5b7_ctrl_oce_mon_17750101T000000Z.nc'), PosixPath('/work/mh0033/m211054/projects/icon/seamless/icon-2024.10/build_hdext/experiments/hel24312_r5b7_ctrl/outdata/hel24312_r5b7_ctrl_oce_mon_17800101T000000Z.nc'), PosixPath('/work/mh0033/m211054/projects/icon/seamless/icon-2024.10/build_hdext/experiments/hel24312_r5b7_ctrl/outdata/hel24312_r5b7_ctrl_oce_mon_17850101T000000Z.nc'), PosixPath('/work/mh0033/m211054/projects/icon/seamless/icon-2024.10/build_hdext/experiments/hel24312_r5b7_ctrl/outdata/hel24312_r5b7_ctrl_oce_mon_17900101T000000Z.nc'), PosixPath('/work/mh0033/m211054/projects/icon/seamless/icon-2024.10/build_hdext/experiments/hel24312_r5b7_ctrl/outdata/hel24312_r5b7_ctrl_oce_mon_17950101T000000Z.nc')]\n",
      "DEBUG:catalog_netcdf:combining virtual datasets\n",
      "INFO:catalog_netcdf:writing oce_mon\n"
     ]
    },
    {
     "name": "stdout",
     "output_type": "stream",
     "text": [
      "<class 'xarray.core.dataset.Dataset'>\n"
     ]
    },
    {
     "name": "stderr",
     "output_type": "stream",
     "text": [
      "INFO:catalog_netcdf:loading atm_2d_ml\n",
      "DEBUG:catalog_netcdf:loading ['time', 'clon', 'clat', 'height', 'height_2']\n",
      "DEBUG:catalog_netcdf:files=[PosixPath('/work/mh0033/m211054/projects/icon/seamless/icon-2024.10/build_hdext/experiments/hel24312_r5b7_ctrl/outdata/hel24312_r5b7_ctrl_atm_2d_ml_17000101T000000Z.nc'), PosixPath('/work/mh0033/m211054/projects/icon/seamless/icon-2024.10/build_hdext/experiments/hel24312_r5b7_ctrl/outdata/hel24312_r5b7_ctrl_atm_2d_ml_17050101T000000Z.nc'), PosixPath('/work/mh0033/m211054/projects/icon/seamless/icon-2024.10/build_hdext/experiments/hel24312_r5b7_ctrl/outdata/hel24312_r5b7_ctrl_atm_2d_ml_17100101T000000Z.nc'), PosixPath('/work/mh0033/m211054/projects/icon/seamless/icon-2024.10/build_hdext/experiments/hel24312_r5b7_ctrl/outdata/hel24312_r5b7_ctrl_atm_2d_ml_17150101T000000Z.nc'), PosixPath('/work/mh0033/m211054/projects/icon/seamless/icon-2024.10/build_hdext/experiments/hel24312_r5b7_ctrl/outdata/hel24312_r5b7_ctrl_atm_2d_ml_17200101T000000Z.nc'), PosixPath('/work/mh0033/m211054/projects/icon/seamless/icon-2024.10/build_hdext/experiments/hel24312_r5b7_ctrl/outdata/hel24312_r5b7_ctrl_atm_2d_ml_17250101T000000Z.nc'), PosixPath('/work/mh0033/m211054/projects/icon/seamless/icon-2024.10/build_hdext/experiments/hel24312_r5b7_ctrl/outdata/hel24312_r5b7_ctrl_atm_2d_ml_17300101T000000Z.nc'), PosixPath('/work/mh0033/m211054/projects/icon/seamless/icon-2024.10/build_hdext/experiments/hel24312_r5b7_ctrl/outdata/hel24312_r5b7_ctrl_atm_2d_ml_17350101T000000Z.nc'), PosixPath('/work/mh0033/m211054/projects/icon/seamless/icon-2024.10/build_hdext/experiments/hel24312_r5b7_ctrl/outdata/hel24312_r5b7_ctrl_atm_2d_ml_17400101T000000Z.nc'), PosixPath('/work/mh0033/m211054/projects/icon/seamless/icon-2024.10/build_hdext/experiments/hel24312_r5b7_ctrl/outdata/hel24312_r5b7_ctrl_atm_2d_ml_17450101T000000Z.nc'), PosixPath('/work/mh0033/m211054/projects/icon/seamless/icon-2024.10/build_hdext/experiments/hel24312_r5b7_ctrl/outdata/hel24312_r5b7_ctrl_atm_2d_ml_17500101T000000Z.nc'), PosixPath('/work/mh0033/m211054/projects/icon/seamless/icon-2024.10/build_hdext/experiments/hel24312_r5b7_ctrl/outdata/hel24312_r5b7_ctrl_atm_2d_ml_17550101T000000Z.nc'), PosixPath('/work/mh0033/m211054/projects/icon/seamless/icon-2024.10/build_hdext/experiments/hel24312_r5b7_ctrl/outdata/hel24312_r5b7_ctrl_atm_2d_ml_17600101T000000Z.nc'), PosixPath('/work/mh0033/m211054/projects/icon/seamless/icon-2024.10/build_hdext/experiments/hel24312_r5b7_ctrl/outdata/hel24312_r5b7_ctrl_atm_2d_ml_17650101T000000Z.nc'), PosixPath('/work/mh0033/m211054/projects/icon/seamless/icon-2024.10/build_hdext/experiments/hel24312_r5b7_ctrl/outdata/hel24312_r5b7_ctrl_atm_2d_ml_17700101T000000Z.nc'), PosixPath('/work/mh0033/m211054/projects/icon/seamless/icon-2024.10/build_hdext/experiments/hel24312_r5b7_ctrl/outdata/hel24312_r5b7_ctrl_atm_2d_ml_17750101T000000Z.nc'), PosixPath('/work/mh0033/m211054/projects/icon/seamless/icon-2024.10/build_hdext/experiments/hel24312_r5b7_ctrl/outdata/hel24312_r5b7_ctrl_atm_2d_ml_17800101T000000Z.nc'), PosixPath('/work/mh0033/m211054/projects/icon/seamless/icon-2024.10/build_hdext/experiments/hel24312_r5b7_ctrl/outdata/hel24312_r5b7_ctrl_atm_2d_ml_17850101T000000Z.nc'), PosixPath('/work/mh0033/m211054/projects/icon/seamless/icon-2024.10/build_hdext/experiments/hel24312_r5b7_ctrl/outdata/hel24312_r5b7_ctrl_atm_2d_ml_17900101T000000Z.nc'), PosixPath('/work/mh0033/m211054/projects/icon/seamless/icon-2024.10/build_hdext/experiments/hel24312_r5b7_ctrl/outdata/hel24312_r5b7_ctrl_atm_2d_ml_17950101T000000Z.nc')]\n",
      "DEBUG:catalog_netcdf:combining virtual datasets\n",
      "INFO:catalog_netcdf:writing atm_2d_ml\n"
     ]
    },
    {
     "name": "stdout",
     "output_type": "stream",
     "text": [
      "<class 'xarray.core.dataset.Dataset'>\n"
     ]
    },
    {
     "name": "stderr",
     "output_type": "stream",
     "text": [
      "INFO:catalog_netcdf:loading oce_qps\n",
      "DEBUG:catalog_netcdf:loading ['global_hfl', 'atlantic_hfl', 'pacific_hfl', 'global_wfl', 'atlantic_wfl', 'pacific_wfl', 'global_hfbasin', 'atlantic_hfbasin', 'pacific_hfbasin', 'global_sltbasin', 'atlantic_sltbasin', 'pacific_sltbasin', 'time', 'clon', 'clat', 'lon', 'lat', 'depth', 'depth_2', 'lev']\n",
      "DEBUG:catalog_netcdf:files=[PosixPath('/work/mh0033/m211054/projects/icon/seamless/icon-2024.10/build_hdext/experiments/hel24312_r5b7_ctrl/outdata/hel24312_r5b7_ctrl_oce_qps_17000101T000000Z.nc'), PosixPath('/work/mh0033/m211054/projects/icon/seamless/icon-2024.10/build_hdext/experiments/hel24312_r5b7_ctrl/outdata/hel24312_r5b7_ctrl_oce_qps_17050101T000000Z.nc'), PosixPath('/work/mh0033/m211054/projects/icon/seamless/icon-2024.10/build_hdext/experiments/hel24312_r5b7_ctrl/outdata/hel24312_r5b7_ctrl_oce_qps_17100101T000000Z.nc'), PosixPath('/work/mh0033/m211054/projects/icon/seamless/icon-2024.10/build_hdext/experiments/hel24312_r5b7_ctrl/outdata/hel24312_r5b7_ctrl_oce_qps_17150101T000000Z.nc'), PosixPath('/work/mh0033/m211054/projects/icon/seamless/icon-2024.10/build_hdext/experiments/hel24312_r5b7_ctrl/outdata/hel24312_r5b7_ctrl_oce_qps_17200101T000000Z.nc'), PosixPath('/work/mh0033/m211054/projects/icon/seamless/icon-2024.10/build_hdext/experiments/hel24312_r5b7_ctrl/outdata/hel24312_r5b7_ctrl_oce_qps_17250101T000000Z.nc'), PosixPath('/work/mh0033/m211054/projects/icon/seamless/icon-2024.10/build_hdext/experiments/hel24312_r5b7_ctrl/outdata/hel24312_r5b7_ctrl_oce_qps_17300101T000000Z.nc'), PosixPath('/work/mh0033/m211054/projects/icon/seamless/icon-2024.10/build_hdext/experiments/hel24312_r5b7_ctrl/outdata/hel24312_r5b7_ctrl_oce_qps_17350101T000000Z.nc'), PosixPath('/work/mh0033/m211054/projects/icon/seamless/icon-2024.10/build_hdext/experiments/hel24312_r5b7_ctrl/outdata/hel24312_r5b7_ctrl_oce_qps_17400101T000000Z.nc'), PosixPath('/work/mh0033/m211054/projects/icon/seamless/icon-2024.10/build_hdext/experiments/hel24312_r5b7_ctrl/outdata/hel24312_r5b7_ctrl_oce_qps_17450101T000000Z.nc'), PosixPath('/work/mh0033/m211054/projects/icon/seamless/icon-2024.10/build_hdext/experiments/hel24312_r5b7_ctrl/outdata/hel24312_r5b7_ctrl_oce_qps_17500101T000000Z.nc'), PosixPath('/work/mh0033/m211054/projects/icon/seamless/icon-2024.10/build_hdext/experiments/hel24312_r5b7_ctrl/outdata/hel24312_r5b7_ctrl_oce_qps_17550101T000000Z.nc'), PosixPath('/work/mh0033/m211054/projects/icon/seamless/icon-2024.10/build_hdext/experiments/hel24312_r5b7_ctrl/outdata/hel24312_r5b7_ctrl_oce_qps_17600101T000000Z.nc'), PosixPath('/work/mh0033/m211054/projects/icon/seamless/icon-2024.10/build_hdext/experiments/hel24312_r5b7_ctrl/outdata/hel24312_r5b7_ctrl_oce_qps_17650101T000000Z.nc'), PosixPath('/work/mh0033/m211054/projects/icon/seamless/icon-2024.10/build_hdext/experiments/hel24312_r5b7_ctrl/outdata/hel24312_r5b7_ctrl_oce_qps_17700101T000000Z.nc'), PosixPath('/work/mh0033/m211054/projects/icon/seamless/icon-2024.10/build_hdext/experiments/hel24312_r5b7_ctrl/outdata/hel24312_r5b7_ctrl_oce_qps_17750101T000000Z.nc'), PosixPath('/work/mh0033/m211054/projects/icon/seamless/icon-2024.10/build_hdext/experiments/hel24312_r5b7_ctrl/outdata/hel24312_r5b7_ctrl_oce_qps_17800101T000000Z.nc'), PosixPath('/work/mh0033/m211054/projects/icon/seamless/icon-2024.10/build_hdext/experiments/hel24312_r5b7_ctrl/outdata/hel24312_r5b7_ctrl_oce_qps_17850101T000000Z.nc'), PosixPath('/work/mh0033/m211054/projects/icon/seamless/icon-2024.10/build_hdext/experiments/hel24312_r5b7_ctrl/outdata/hel24312_r5b7_ctrl_oce_qps_17900101T000000Z.nc'), PosixPath('/work/mh0033/m211054/projects/icon/seamless/icon-2024.10/build_hdext/experiments/hel24312_r5b7_ctrl/outdata/hel24312_r5b7_ctrl_oce_qps_17950101T000000Z.nc')]\n",
      "DEBUG:catalog_netcdf:combining virtual datasets\n",
      "INFO:catalog_netcdf:writing oce_qps\n"
     ]
    },
    {
     "name": "stdout",
     "output_type": "stream",
     "text": [
      "<class 'xarray.core.dataset.Dataset'>\n"
     ]
    },
    {
     "name": "stderr",
     "output_type": "stream",
     "text": [
      "INFO:catalog_netcdf:loading oce_fx\n",
      "DEBUG:catalog_netcdf:loading ['time', 'clon', 'clat', 'vlon', 'vlat', 'depth', 'depth_2', 'lsm_ctr_c', 'surface_cell_sea_land_mask', 'surface_vertex_sea_land_mask', 'vertex_bottomLevel', 'basin_c', 'regio_c', 'bottom_thick_c', 'column_thick_c']\n",
      "DEBUG:catalog_netcdf:files=[PosixPath('/work/mh0033/m211054/projects/icon/seamless/icon-2024.10/build_hdext/experiments/hel24312_r5b7_ctrl/outdata/hel24312_r5b7_ctrl_oce_fx_17000102T000000Z.nc')]\n",
      "DEBUG:catalog_netcdf:combining virtual datasets\n",
      "INFO:catalog_netcdf:writing oce_fx\n"
     ]
    },
    {
     "name": "stdout",
     "output_type": "stream",
     "text": [
      "<class 'xarray.core.dataset.Dataset'>\n"
     ]
    },
    {
     "name": "stderr",
     "output_type": "stream",
     "text": [
      "INFO:catalog_netcdf:loading atm_mon\n",
      "DEBUG:catalog_netcdf:loading ['tas_gmean', 'rsdt_gmean', 'rsut_gmean', 'rlut_gmean', 'radtop_gmean', 'prec_gmean', 'evap_gmean', 'pme_gmean', 'time', 'lon', 'lat']\n",
      "DEBUG:catalog_netcdf:files=[PosixPath('/work/mh0033/m211054/projects/icon/seamless/icon-2024.10/build_hdext/experiments/hel24312_r5b7_ctrl/outdata/hel24312_r5b7_ctrl_atm_mon_17000101T000000Z.nc'), PosixPath('/work/mh0033/m211054/projects/icon/seamless/icon-2024.10/build_hdext/experiments/hel24312_r5b7_ctrl/outdata/hel24312_r5b7_ctrl_atm_mon_17050101T000000Z.nc'), PosixPath('/work/mh0033/m211054/projects/icon/seamless/icon-2024.10/build_hdext/experiments/hel24312_r5b7_ctrl/outdata/hel24312_r5b7_ctrl_atm_mon_17100101T000000Z.nc'), PosixPath('/work/mh0033/m211054/projects/icon/seamless/icon-2024.10/build_hdext/experiments/hel24312_r5b7_ctrl/outdata/hel24312_r5b7_ctrl_atm_mon_17150101T000000Z.nc'), PosixPath('/work/mh0033/m211054/projects/icon/seamless/icon-2024.10/build_hdext/experiments/hel24312_r5b7_ctrl/outdata/hel24312_r5b7_ctrl_atm_mon_17200101T000000Z.nc'), PosixPath('/work/mh0033/m211054/projects/icon/seamless/icon-2024.10/build_hdext/experiments/hel24312_r5b7_ctrl/outdata/hel24312_r5b7_ctrl_atm_mon_17250101T000000Z.nc'), PosixPath('/work/mh0033/m211054/projects/icon/seamless/icon-2024.10/build_hdext/experiments/hel24312_r5b7_ctrl/outdata/hel24312_r5b7_ctrl_atm_mon_17300101T000000Z.nc'), PosixPath('/work/mh0033/m211054/projects/icon/seamless/icon-2024.10/build_hdext/experiments/hel24312_r5b7_ctrl/outdata/hel24312_r5b7_ctrl_atm_mon_17350101T000000Z.nc'), PosixPath('/work/mh0033/m211054/projects/icon/seamless/icon-2024.10/build_hdext/experiments/hel24312_r5b7_ctrl/outdata/hel24312_r5b7_ctrl_atm_mon_17400101T000000Z.nc'), PosixPath('/work/mh0033/m211054/projects/icon/seamless/icon-2024.10/build_hdext/experiments/hel24312_r5b7_ctrl/outdata/hel24312_r5b7_ctrl_atm_mon_17450101T000000Z.nc'), PosixPath('/work/mh0033/m211054/projects/icon/seamless/icon-2024.10/build_hdext/experiments/hel24312_r5b7_ctrl/outdata/hel24312_r5b7_ctrl_atm_mon_17500101T000000Z.nc'), PosixPath('/work/mh0033/m211054/projects/icon/seamless/icon-2024.10/build_hdext/experiments/hel24312_r5b7_ctrl/outdata/hel24312_r5b7_ctrl_atm_mon_17550101T000000Z.nc'), PosixPath('/work/mh0033/m211054/projects/icon/seamless/icon-2024.10/build_hdext/experiments/hel24312_r5b7_ctrl/outdata/hel24312_r5b7_ctrl_atm_mon_17600101T000000Z.nc'), PosixPath('/work/mh0033/m211054/projects/icon/seamless/icon-2024.10/build_hdext/experiments/hel24312_r5b7_ctrl/outdata/hel24312_r5b7_ctrl_atm_mon_17650101T000000Z.nc'), PosixPath('/work/mh0033/m211054/projects/icon/seamless/icon-2024.10/build_hdext/experiments/hel24312_r5b7_ctrl/outdata/hel24312_r5b7_ctrl_atm_mon_17700101T000000Z.nc'), PosixPath('/work/mh0033/m211054/projects/icon/seamless/icon-2024.10/build_hdext/experiments/hel24312_r5b7_ctrl/outdata/hel24312_r5b7_ctrl_atm_mon_17750101T000000Z.nc'), PosixPath('/work/mh0033/m211054/projects/icon/seamless/icon-2024.10/build_hdext/experiments/hel24312_r5b7_ctrl/outdata/hel24312_r5b7_ctrl_atm_mon_17800101T000000Z.nc'), PosixPath('/work/mh0033/m211054/projects/icon/seamless/icon-2024.10/build_hdext/experiments/hel24312_r5b7_ctrl/outdata/hel24312_r5b7_ctrl_atm_mon_17850101T000000Z.nc'), PosixPath('/work/mh0033/m211054/projects/icon/seamless/icon-2024.10/build_hdext/experiments/hel24312_r5b7_ctrl/outdata/hel24312_r5b7_ctrl_atm_mon_17900101T000000Z.nc'), PosixPath('/work/mh0033/m211054/projects/icon/seamless/icon-2024.10/build_hdext/experiments/hel24312_r5b7_ctrl/outdata/hel24312_r5b7_ctrl_atm_mon_17950101T000000Z.nc')]\n",
      "DEBUG:catalog_netcdf:combining virtual datasets\n",
      "INFO:catalog_netcdf:writing atm_mon\n"
     ]
    },
    {
     "name": "stdout",
     "output_type": "stream",
     "text": [
      "<class 'xarray.core.dataset.Dataset'>\n"
     ]
    },
    {
     "name": "stderr",
     "output_type": "stream",
     "text": [
      "INFO:catalog_netcdf:loading atm_3d_ml\n",
      "DEBUG:catalog_netcdf:loading ['height_bnds', 'depth_bnds', 'depth_2_bnds', 'time', 'clon', 'clat', 'height', 'depth', 'depth_2']\n",
      "DEBUG:catalog_netcdf:files=[PosixPath('/work/mh0033/m211054/projects/icon/seamless/icon-2024.10/build_hdext/experiments/hel24312_r5b7_ctrl/outdata/hel24312_r5b7_ctrl_atm_3d_ml_17000101T000000Z.nc'), PosixPath('/work/mh0033/m211054/projects/icon/seamless/icon-2024.10/build_hdext/experiments/hel24312_r5b7_ctrl/outdata/hel24312_r5b7_ctrl_atm_3d_ml_17050101T000000Z.nc'), PosixPath('/work/mh0033/m211054/projects/icon/seamless/icon-2024.10/build_hdext/experiments/hel24312_r5b7_ctrl/outdata/hel24312_r5b7_ctrl_atm_3d_ml_17100101T000000Z.nc'), PosixPath('/work/mh0033/m211054/projects/icon/seamless/icon-2024.10/build_hdext/experiments/hel24312_r5b7_ctrl/outdata/hel24312_r5b7_ctrl_atm_3d_ml_17150101T000000Z.nc'), PosixPath('/work/mh0033/m211054/projects/icon/seamless/icon-2024.10/build_hdext/experiments/hel24312_r5b7_ctrl/outdata/hel24312_r5b7_ctrl_atm_3d_ml_17200101T000000Z.nc'), PosixPath('/work/mh0033/m211054/projects/icon/seamless/icon-2024.10/build_hdext/experiments/hel24312_r5b7_ctrl/outdata/hel24312_r5b7_ctrl_atm_3d_ml_17250101T000000Z.nc'), PosixPath('/work/mh0033/m211054/projects/icon/seamless/icon-2024.10/build_hdext/experiments/hel24312_r5b7_ctrl/outdata/hel24312_r5b7_ctrl_atm_3d_ml_17300101T000000Z.nc'), PosixPath('/work/mh0033/m211054/projects/icon/seamless/icon-2024.10/build_hdext/experiments/hel24312_r5b7_ctrl/outdata/hel24312_r5b7_ctrl_atm_3d_ml_17350101T000000Z.nc'), PosixPath('/work/mh0033/m211054/projects/icon/seamless/icon-2024.10/build_hdext/experiments/hel24312_r5b7_ctrl/outdata/hel24312_r5b7_ctrl_atm_3d_ml_17400101T000000Z.nc'), PosixPath('/work/mh0033/m211054/projects/icon/seamless/icon-2024.10/build_hdext/experiments/hel24312_r5b7_ctrl/outdata/hel24312_r5b7_ctrl_atm_3d_ml_17450101T000000Z.nc'), PosixPath('/work/mh0033/m211054/projects/icon/seamless/icon-2024.10/build_hdext/experiments/hel24312_r5b7_ctrl/outdata/hel24312_r5b7_ctrl_atm_3d_ml_17500101T000000Z.nc'), PosixPath('/work/mh0033/m211054/projects/icon/seamless/icon-2024.10/build_hdext/experiments/hel24312_r5b7_ctrl/outdata/hel24312_r5b7_ctrl_atm_3d_ml_17550101T000000Z.nc'), PosixPath('/work/mh0033/m211054/projects/icon/seamless/icon-2024.10/build_hdext/experiments/hel24312_r5b7_ctrl/outdata/hel24312_r5b7_ctrl_atm_3d_ml_17600101T000000Z.nc'), PosixPath('/work/mh0033/m211054/projects/icon/seamless/icon-2024.10/build_hdext/experiments/hel24312_r5b7_ctrl/outdata/hel24312_r5b7_ctrl_atm_3d_ml_17650101T000000Z.nc'), PosixPath('/work/mh0033/m211054/projects/icon/seamless/icon-2024.10/build_hdext/experiments/hel24312_r5b7_ctrl/outdata/hel24312_r5b7_ctrl_atm_3d_ml_17700101T000000Z.nc'), PosixPath('/work/mh0033/m211054/projects/icon/seamless/icon-2024.10/build_hdext/experiments/hel24312_r5b7_ctrl/outdata/hel24312_r5b7_ctrl_atm_3d_ml_17750101T000000Z.nc'), PosixPath('/work/mh0033/m211054/projects/icon/seamless/icon-2024.10/build_hdext/experiments/hel24312_r5b7_ctrl/outdata/hel24312_r5b7_ctrl_atm_3d_ml_17800101T000000Z.nc'), PosixPath('/work/mh0033/m211054/projects/icon/seamless/icon-2024.10/build_hdext/experiments/hel24312_r5b7_ctrl/outdata/hel24312_r5b7_ctrl_atm_3d_ml_17850101T000000Z.nc'), PosixPath('/work/mh0033/m211054/projects/icon/seamless/icon-2024.10/build_hdext/experiments/hel24312_r5b7_ctrl/outdata/hel24312_r5b7_ctrl_atm_3d_ml_17900101T000000Z.nc'), PosixPath('/work/mh0033/m211054/projects/icon/seamless/icon-2024.10/build_hdext/experiments/hel24312_r5b7_ctrl/outdata/hel24312_r5b7_ctrl_atm_3d_ml_17950101T000000Z.nc')]\n",
      "DEBUG:catalog_netcdf:combining virtual datasets\n",
      "INFO:catalog_netcdf:writing atm_3d_ml\n"
     ]
    },
    {
     "name": "stdout",
     "output_type": "stream",
     "text": [
      "<class 'xarray.core.dataset.Dataset'>\n"
     ]
    },
    {
     "name": "stderr",
     "output_type": "stream",
     "text": [
      "INFO:catalog_netcdf:loading hd_meanflow\n",
      "DEBUG:catalog_netcdf:loading ['time', 'lon', 'lat']\n",
      "DEBUG:catalog_netcdf:files=[PosixPath('/work/mh0033/m211054/projects/icon/seamless/icon-2024.10/build_hdext/experiments/hel24312_r5b7_ctrl/outdata/hel24312_r5b7_ctrl_1700-01-02_hd_meanflow.nc'), PosixPath('/work/mh0033/m211054/projects/icon/seamless/icon-2024.10/build_hdext/experiments/hel24312_r5b7_ctrl/outdata/hel24312_r5b7_ctrl_1705-01-02_hd_meanflow.nc'), PosixPath('/work/mh0033/m211054/projects/icon/seamless/icon-2024.10/build_hdext/experiments/hel24312_r5b7_ctrl/outdata/hel24312_r5b7_ctrl_1710-01-02_hd_meanflow.nc'), PosixPath('/work/mh0033/m211054/projects/icon/seamless/icon-2024.10/build_hdext/experiments/hel24312_r5b7_ctrl/outdata/hel24312_r5b7_ctrl_1715-01-02_hd_meanflow.nc'), PosixPath('/work/mh0033/m211054/projects/icon/seamless/icon-2024.10/build_hdext/experiments/hel24312_r5b7_ctrl/outdata/hel24312_r5b7_ctrl_1720-01-02_hd_meanflow.nc'), PosixPath('/work/mh0033/m211054/projects/icon/seamless/icon-2024.10/build_hdext/experiments/hel24312_r5b7_ctrl/outdata/hel24312_r5b7_ctrl_1725-01-02_hd_meanflow.nc'), PosixPath('/work/mh0033/m211054/projects/icon/seamless/icon-2024.10/build_hdext/experiments/hel24312_r5b7_ctrl/outdata/hel24312_r5b7_ctrl_1730-01-02_hd_meanflow.nc'), PosixPath('/work/mh0033/m211054/projects/icon/seamless/icon-2024.10/build_hdext/experiments/hel24312_r5b7_ctrl/outdata/hel24312_r5b7_ctrl_1735-01-02_hd_meanflow.nc'), PosixPath('/work/mh0033/m211054/projects/icon/seamless/icon-2024.10/build_hdext/experiments/hel24312_r5b7_ctrl/outdata/hel24312_r5b7_ctrl_1740-01-02_hd_meanflow.nc'), PosixPath('/work/mh0033/m211054/projects/icon/seamless/icon-2024.10/build_hdext/experiments/hel24312_r5b7_ctrl/outdata/hel24312_r5b7_ctrl_1745-01-02_hd_meanflow.nc'), PosixPath('/work/mh0033/m211054/projects/icon/seamless/icon-2024.10/build_hdext/experiments/hel24312_r5b7_ctrl/outdata/hel24312_r5b7_ctrl_1750-01-02_hd_meanflow.nc'), PosixPath('/work/mh0033/m211054/projects/icon/seamless/icon-2024.10/build_hdext/experiments/hel24312_r5b7_ctrl/outdata/hel24312_r5b7_ctrl_1755-01-02_hd_meanflow.nc'), PosixPath('/work/mh0033/m211054/projects/icon/seamless/icon-2024.10/build_hdext/experiments/hel24312_r5b7_ctrl/outdata/hel24312_r5b7_ctrl_1760-01-02_hd_meanflow.nc'), PosixPath('/work/mh0033/m211054/projects/icon/seamless/icon-2024.10/build_hdext/experiments/hel24312_r5b7_ctrl/outdata/hel24312_r5b7_ctrl_1765-01-02_hd_meanflow.nc'), PosixPath('/work/mh0033/m211054/projects/icon/seamless/icon-2024.10/build_hdext/experiments/hel24312_r5b7_ctrl/outdata/hel24312_r5b7_ctrl_1770-01-02_hd_meanflow.nc'), PosixPath('/work/mh0033/m211054/projects/icon/seamless/icon-2024.10/build_hdext/experiments/hel24312_r5b7_ctrl/outdata/hel24312_r5b7_ctrl_1775-01-02_hd_meanflow.nc'), PosixPath('/work/mh0033/m211054/projects/icon/seamless/icon-2024.10/build_hdext/experiments/hel24312_r5b7_ctrl/outdata/hel24312_r5b7_ctrl_1780-01-02_hd_meanflow.nc'), PosixPath('/work/mh0033/m211054/projects/icon/seamless/icon-2024.10/build_hdext/experiments/hel24312_r5b7_ctrl/outdata/hel24312_r5b7_ctrl_1785-01-02_hd_meanflow.nc'), PosixPath('/work/mh0033/m211054/projects/icon/seamless/icon-2024.10/build_hdext/experiments/hel24312_r5b7_ctrl/outdata/hel24312_r5b7_ctrl_1790-01-02_hd_meanflow.nc'), PosixPath('/work/mh0033/m211054/projects/icon/seamless/icon-2024.10/build_hdext/experiments/hel24312_r5b7_ctrl/outdata/hel24312_r5b7_ctrl_1795-01-02_hd_meanflow.nc')]\n",
      "DEBUG:catalog_netcdf:combining virtual datasets\n",
      "INFO:catalog_netcdf:writing hd_meanflow\n"
     ]
    },
    {
     "name": "stdout",
     "output_type": "stream",
     "text": [
      "<class 'xarray.core.dataset.Dataset'>\n",
      "CPU times: user 8min 17s, sys: 7min 34s, total: 15min 51s\n",
      "Wall time: 1h 8min 32s\n"
     ]
    }
   ],
   "source": [
    "%%time\n",
    "\n",
    "for name, files in filelist.items():\n",
    "    logger.info(f\"loading {name}\")\n",
    "    virtual_ds = load_virtual_dataset(name, files)\n",
    "    print(type(virtual_ds))\n",
    "    logger.info(f\"writing {name}\")\n",
    "    virtual_ds.virtualize.to_kerchunk(\n",
    "        storage_prefix / Path(f\"{name}.parq\"), format=\"parquet\"\n",
    "    )"
   ]
  },
  {
   "cell_type": "code",
   "execution_count": null,
   "metadata": {},
   "outputs": [],
   "source": [
    "%%time\n",
    "xr.open_dataset(\"/scratch/k/k202134/oce_fx.parq\", engine=\"kerchunk\", chunks={})"
   ]
  }
 ],
 "metadata": {
  "kernelspec": {
   "display_name": "py_3.12",
   "language": "python",
   "name": "py_3.12"
  },
  "language_info": {
   "codemirror_mode": {
    "name": "ipython",
    "version": 3
   },
   "file_extension": ".py",
   "mimetype": "text/x-python",
   "name": "python",
   "nbconvert_exporter": "python",
   "pygments_lexer": "ipython3",
   "version": "3.12.8"
  }
 },
 "nbformat": 4,
 "nbformat_minor": 4
}
